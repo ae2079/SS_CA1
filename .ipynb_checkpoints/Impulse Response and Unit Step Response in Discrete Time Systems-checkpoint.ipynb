{
 "cells": [
  {
   "cell_type": "code",
   "execution_count": 3,
   "id": "8f909eb3",
   "metadata": {},
   "outputs": [],
   "source": [
    "import numpy as np\n",
    "import matplotlib.pyplot as plt\n",
    "from scipy import signal"
   ]
  },
  {
   "cell_type": "code",
   "execution_count": 4,
   "id": "6ffaca5f",
   "metadata": {},
   "outputs": [],
   "source": [
    "n = np.arange(-10, 11, 1)"
   ]
  },
  {
   "cell_type": "code",
   "execution_count": 39,
   "id": "c3a90b91",
   "metadata": {},
   "outputs": [],
   "source": [
    "delta = signal.unit_impulse(21)"
   ]
  },
  {
   "cell_type": "code",
   "execution_count": 41,
   "id": "f2734a27",
   "metadata": {},
   "outputs": [],
   "source": [
    "def D(n):\n",
    "    return delta[n]"
   ]
  },
  {
   "cell_type": "code",
   "execution_count": null,
   "id": "501b054f",
   "metadata": {},
   "outputs": [],
   "source": [
    "def U(n):\n",
    "    return np.piecewise(n, [n<0, 0<=n], [0,lambda x: 2+x,1])"
   ]
  },
  {
   "cell_type": "markdown",
   "id": "7ae32031",
   "metadata": {},
   "source": [
    "## A"
   ]
  },
  {
   "cell_type": "code",
   "execution_count": 34,
   "id": "c6225e2f",
   "metadata": {},
   "outputs": [],
   "source": [
    "A_D = 0.5 * (D(n) + D(n-1))"
   ]
  },
  {
   "cell_type": "code",
   "execution_count": 35,
   "id": "2f8b73b6",
   "metadata": {},
   "outputs": [
    {
     "data": {
      "image/png": "[encoded data removed]",
      "text/plain": [
       "<Figure size 432x288 with 1 Axes>"
      ]
     },
     "metadata": {
      "needs_background": "light"
     },
     "output_type": "display_data"
    }
   ],
   "source": [
    "plt.stem(n ,A_D ,use_line_collection=True);"
   ]
  },
  {
   "cell_type": "code",
   "execution_count": 36,
   "id": "53a7fcfb",
   "metadata": {},
   "outputs": [],
   "source": [
    "A_U = U(n)"
   ]
  },
  {
   "cell_type": "code",
   "execution_count": 37,
   "id": "4b58b96f",
   "metadata": {},
   "outputs": [
    {
     "data": {
      "image/png": "[encoded data removed]",
      "text/plain": [
       "<Figure size 432x288 with 1 Axes>"
      ]
     },
     "metadata": {
      "needs_background": "light"
     },
     "output_type": "display_data"
    }
   ],
   "source": [
    "plt.stem(n ,A_U ,use_line_collection=True);"
   ]
  },
  {
   "cell_type": "code",
   "execution_count": 38,
   "id": "24c61337",
   "metadata": {},
   "outputs": [
    {
     "data": {
      "text/plain": [
       "array([1., 1., 1., 1., 1., 1., 1., 1., 1., 1., 1., 1., 1., 1., 1., 1., 1.,\n",
       "       1., 1., 1., 1.])"
      ]
     },
     "execution_count": 38,
     "metadata": {},
     "output_type": "execute_result"
    }
   ],
   "source": [
    "unit_step"
   ]
  },
  {
   "cell_type": "code",
   "execution_count": null,
   "id": "3520a798",
   "metadata": {},
   "outputs": [],
   "source": []
  },
  {
   "cell_type": "code",
   "execution_count": null,
   "id": "8d918b2a",
   "metadata": {},
   "outputs": [],
   "source": []
  },
  {
   "cell_type": "code",
   "execution_count": null,
   "id": "5982e30b",
   "metadata": {},
   "outputs": [],
   "source": []
  },
  {
   "cell_type": "code",
   "execution_count": null,
   "id": "470f89f0",
   "metadata": {},
   "outputs": [],
   "source": []
  },
  {
   "cell_type": "code",
   "execution_count": null,
   "id": "c1e75a95",
   "metadata": {},
   "outputs": [],
   "source": []
  },
  {
   "cell_type": "code",
   "execution_count": null,
   "id": "7192596b",
   "metadata": {},
   "outputs": [],
   "source": []
  },
  {
   "cell_type": "code",
   "execution_count": null,
   "id": "616af7d1",
   "metadata": {},
   "outputs": [],
   "source": []
  },
  {
   "cell_type": "code",
   "execution_count": null,
   "id": "fa588dac",
   "metadata": {},
   "outputs": [],
   "source": []
  },
  {
   "cell_type": "code",
   "execution_count": null,
   "id": "d859ca4d",
   "metadata": {},
   "outputs": [],
   "source": []
  },
  {
   "cell_type": "code",
   "execution_count": null,
   "id": "fc0229c9",
   "metadata": {},
   "outputs": [],
   "source": []
  }
 ],
 "metadata": {
  "kernelspec": {
   "display_name": "Python 3 (ipykernel)",
   "language": "python",
   "name": "python3"
  },
  "language_info": {
   "codemirror_mode": {
    "name": "ipython",
    "version": 3
   },
   "file_extension": ".py",
   "mimetype": "text/x-python",
   "name": "python",
   "nbconvert_exporter": "python",
   "pygments_lexer": "ipython3",
   "version": "3.8.10"
  }
 },
 "nbformat": 4,
 "nbformat_minor": 5
}
