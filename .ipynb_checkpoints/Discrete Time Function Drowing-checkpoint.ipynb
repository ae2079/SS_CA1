{
 "cells": [
  {
   "cell_type": "code",
   "execution_count": 1,
   "id": "dc60c39e",
   "metadata": {},
   "outputs": [],
   "source": [
    "import numpy as np\n",
    "import matplotlib.pyplot as plt\n",
    "from scipy import signal"
   ]
  },
  {
   "cell_type": "markdown",
   "id": "185a039a",
   "metadata": {},
   "source": [
    "## تعریف مقادیر ثابت ها"
   ]
  },
  {
   "cell_type": "code",
   "execution_count": 53,
   "id": "ca2b6e95",
   "metadata": {},
   "outputs": [],
   "source": [
    "n = np.arange(0,10,1)\n",
    "a = 10\n",
    "k = 0.2\n",
    "pi = np.pi\n",
    "T = 4"
   ]
  },
  {
   "cell_type": "markdown",
   "id": "3c6b062f",
   "metadata": {},
   "source": [
    "##  تعریف تابع ایکس"
   ]
  },
  {
   "cell_type": "code",
   "execution_count": 54,
   "id": "44e830a5",
   "metadata": {},
   "outputs": [],
   "source": [
    "def X(n):\n",
    "    return np.cos(2*k*pi*n)"
   ]
  },
  {
   "cell_type": "markdown",
   "id": "a1c151f8",
   "metadata": {},
   "source": [
    "# الف)"
   ]
  },
  {
   "cell_type": "markdown",
   "id": "1da4b32f",
   "metadata": {},
   "source": [
    "## تعریف تابع اول"
   ]
  },
  {
   "cell_type": "code",
   "execution_count": 55,
   "id": "2d4cdb63",
   "metadata": {},
   "outputs": [],
   "source": [
    "def A(n):\n",
    "    return (1/T) * (X(n+1) - X(n))"
   ]
  },
  {
   "cell_type": "code",
   "execution_count": 56,
   "id": "8d72174b",
   "metadata": {},
   "outputs": [
    {
     "data": {
      "text/plain": [
       "<StemContainer object of 3 artists>"
      ]
     },
     "execution_count": 56,
     "metadata": {},
     "output_type": "execute_result"
    },
    {
     "data": {
      "image/png": "[encoded data removed]",
      "text/plain": [
       "<Figure size 432x288 with 1 Axes>"
      ]
     },
     "metadata": {
      "needs_background": "light"
     },
     "output_type": "display_data"
    }
   ],
   "source": [
    "y = A(n)\n",
    "plt.stem(n,y,use_line_collection=True)"
   ]
  },
  {
   "cell_type": "markdown",
   "id": "47b723de",
   "metadata": {},
   "source": [
    "## تعریف تابع دوم"
   ]
  },
  {
   "cell_type": "code",
   "execution_count": 68,
   "id": "5dba0c96",
   "metadata": {},
   "outputs": [],
   "source": [
    "def B(n):\n",
    "    return (1/(2*T)) * (X(n+1) - X(n-1))"
   ]
  },
  {
   "cell_type": "code",
   "execution_count": 69,
   "id": "d404add7",
   "metadata": {},
   "outputs": [
    {
     "data": {
      "text/plain": [
       "<StemContainer object of 3 artists>"
      ]
     },
     "execution_count": 69,
     "metadata": {},
     "output_type": "execute_result"
    },
    {
     "data": {
      "image/png": "[encoded data removed]",
      "text/plain": [
       "<Figure size 432x288 with 1 Axes>"
      ]
     },
     "metadata": {
      "needs_background": "light"
     },
     "output_type": "display_data"
    }
   ],
   "source": [
    "y = B(n)\n",
    "plt.stem(n,y,use_line_collection=True)"
   ]
  },
  {
   "cell_type": "markdown",
   "id": "40200f8b",
   "metadata": {},
   "source": [
    "## تعریف تابع سوم"
   ]
  },
  {
   "cell_type": "code",
   "execution_count": 86,
   "id": "18f14de1",
   "metadata": {},
   "outputs": [],
   "source": [
    "def C(n):\n",
    "    return (1/(T**2)) * (X(n+1) - 2*X(n) + X(n-1))"
   ]
  },
  {
   "cell_type": "code",
   "execution_count": 87,
   "id": "1df66c16",
   "metadata": {},
   "outputs": [
    {
     "data": {
      "text/plain": [
       "<StemContainer object of 3 artists>"
      ]
     },
     "execution_count": 87,
     "metadata": {},
     "output_type": "execute_result"
    },
    {
     "data": {
      "image/png": "[encoded data removed]",
      "text/plain": [
       "<Figure size 432x288 with 1 Axes>"
      ]
     },
     "metadata": {
      "needs_background": "light"
     },
     "output_type": "display_data"
    }
   ],
   "source": [
    "y = C(n)\n",
    "plt.stem(n,y,use_line_collection=True)"
   ]
  },
  {
   "cell_type": "markdown",
   "id": "3bc0416c",
   "metadata": {},
   "source": [
    "## تعریف تابع چهارم"
   ]
  },
  {
   "cell_type": "code",
   "execution_count": 89,
   "id": "2bc5d667",
   "metadata": {},
   "outputs": [],
   "source": [
    "def D(n):\n",
    "    return 0.1*X(n-2) + 0.2*X(n-1) + 0.4*X(n) + 0.2*X(n+1) + 0.1*X(n+2)"
   ]
  },
  {
   "cell_type": "code",
   "execution_count": 90,
   "id": "c8954fd0",
   "metadata": {},
   "outputs": [
    {
     "data": {
      "text/plain": [
       "<StemContainer object of 3 artists>"
      ]
     },
     "execution_count": 90,
     "metadata": {},
     "output_type": "execute_result"
    },
    {
     "data": {
      "image/png": "[encoded data removed]",
      "text/plain": [
       "<Figure size 432x288 with 1 Axes>"
      ]
     },
     "metadata": {
      "needs_background": "light"
     },
     "output_type": "display_data"
    }
   ],
   "source": [
    "y = D(n)\n",
    "plt.stem(n,y,use_line_collection=True)"
   ]
  },
  {
   "cell_type": "markdown",
   "id": "c972b9d9",
   "metadata": {},
   "source": [
    "# ب)"
   ]
  },
  {
   "cell_type": "code",
   "execution_count": 97,
   "id": "110bbcb8",
   "metadata": {},
   "outputs": [],
   "source": [
    "n = np.arange(0,20,1)"
   ]
  },
  {
   "cell_type": "markdown",
   "id": "0740346e",
   "metadata": {},
   "source": [
    "## نمودار ایکس"
   ]
  },
  {
   "cell_type": "code",
   "execution_count": 98,
   "id": "c32ad0ab",
   "metadata": {},
   "outputs": [
    {
     "data": {
      "text/plain": [
       "<StemContainer object of 3 artists>"
      ]
     },
     "execution_count": 98,
     "metadata": {},
     "output_type": "execute_result"
    },
    {
     "data": {
      "image/png": "[encoded data removed]",
      "text/plain": [
       "<Figure size 432x288 with 1 Axes>"
      ]
     },
     "metadata": {
      "needs_background": "light"
     },
     "output_type": "display_data"
    }
   ],
   "source": [
    "y = X(n)\n",
    "plt.stem(n,y,use_line_collection=True)"
   ]
  },
  {
   "cell_type": "markdown",
   "id": "2d59daa9",
   "metadata": {},
   "source": [
    "## تعریف تابع اول"
   ]
  },
  {
   "cell_type": "code",
   "execution_count": 55,
   "id": "60dbc78c",
   "metadata": {},
   "outputs": [],
   "source": [
    "def A(n):\n",
    "    return (1/T) * (X(n+1) - X(n))"
   ]
  },
  {
   "cell_type": "code",
   "execution_count": 56,
   "id": "0051969e",
   "metadata": {},
   "outputs": [
    {
     "data": {
      "text/plain": [
       "<StemContainer object of 3 artists>"
      ]
     },
     "execution_count": 56,
     "metadata": {},
     "output_type": "execute_result"
    },
    {
     "data": {
      "image/png": "[encoded data removed]",
      "text/plain": [
       "<Figure size 432x288 with 1 Axes>"
      ]
     },
     "metadata": {
      "needs_background": "light"
     },
     "output_type": "display_data"
    }
   ],
   "source": [
    "y = A(n)\n",
    "plt.stem(n,y,use_line_collection=True)"
   ]
  },
  {
   "cell_type": "markdown",
   "id": "8623113f",
   "metadata": {},
   "source": [
    "## تعریف تابع دوم"
   ]
  },
  {
   "cell_type": "code",
   "execution_count": 68,
   "id": "bb385335",
   "metadata": {},
   "outputs": [],
   "source": [
    "def B(n):\n",
    "    return (1/(2*T)) * (X(n+1) - X(n-1))"
   ]
  },
  {
   "cell_type": "code",
   "execution_count": 69,
   "id": "06073306",
   "metadata": {},
   "outputs": [
    {
     "data": {
      "text/plain": [
       "<StemContainer object of 3 artists>"
      ]
     },
     "execution_count": 69,
     "metadata": {},
     "output_type": "execute_result"
    },
    {
     "data": {
      "image/png": "[encoded data removed]",
      "text/plain": [
       "<Figure size 432x288 with 1 Axes>"
      ]
     },
     "metadata": {
      "needs_background": "light"
     },
     "output_type": "display_data"
    }
   ],
   "source": [
    "y = B(n)\n",
    "plt.stem(n,y,use_line_collection=True)"
   ]
  },
  {
   "cell_type": "markdown",
   "id": "f465eda5",
   "metadata": {},
   "source": [
    "## تعریف تابع سوم"
   ]
  },
  {
   "cell_type": "code",
   "execution_count": 86,
   "id": "8e0e9f3e",
   "metadata": {},
   "outputs": [],
   "source": [
    "def C(n):\n",
    "    return (1/(T**2)) * (X(n+1) - 2*X(n) + X(n-1))"
   ]
  },
  {
   "cell_type": "code",
   "execution_count": 87,
   "id": "6e7c38b2",
   "metadata": {},
   "outputs": [
    {
     "data": {
      "text/plain": [
       "<StemContainer object of 3 artists>"
      ]
     },
     "execution_count": 87,
     "metadata": {},
     "output_type": "execute_result"
    },
    {
     "data": {
      "image/png": "[encoded data removed]",
      "text/plain": [
       "<Figure size 432x288 with 1 Axes>"
      ]
     },
     "metadata": {
      "needs_background": "light"
     },
     "output_type": "display_data"
    }
   ],
   "source": [
    "y = C(n)\n",
    "plt.stem(n,y,use_line_collection=True)"
   ]
  },
  {
   "cell_type": "markdown",
   "id": "9bdf1428",
   "metadata": {},
   "source": [
    "## تعریف تابع چهارم"
   ]
  },
  {
   "cell_type": "code",
   "execution_count": 89,
   "id": "ce36d2bb",
   "metadata": {},
   "outputs": [],
   "source": [
    "def D(n):\n",
    "    return 0.1*X(n-2) + 0.2*X(n-1) + 0.4*X(n) + 0.2*X(n+1) + 0.1*X(n+2)"
   ]
  },
  {
   "cell_type": "code",
   "execution_count": 90,
   "id": "eb726aa7",
   "metadata": {},
   "outputs": [
    {
     "data": {
      "text/plain": [
       "<StemContainer object of 3 artists>"
      ]
     },
     "execution_count": 90,
     "metadata": {},
     "output_type": "execute_result"
    },
    {
     "data": {
      "image/png": "[encoded data removed]",
      "text/plain": [
       "<Figure size 432x288 with 1 Axes>"
      ]
     },
     "metadata": {
      "needs_background": "light"
     },
     "output_type": "display_data"
    }
   ],
   "source": [
    "y = D(n)\n",
    "plt.stem(n,y,use_line_collection=True)"
   ]
  },
  {
   "cell_type": "code",
   "execution_count": null,
   "id": "07b44d7d",
   "metadata": {},
   "outputs": [],
   "source": []
  },
  {
   "cell_type": "code",
   "execution_count": null,
   "id": "0eac2c4d",
   "metadata": {},
   "outputs": [],
   "source": []
  }
 ],
 "metadata": {
  "kernelspec": {
   "display_name": "Python 3 (ipykernel)",
   "language": "python",
   "name": "python3"
  },
  "language_info": {
   "codemirror_mode": {
    "name": "ipython",
    "version": 3
   },
   "file_extension": ".py",
   "mimetype": "text/x-python",
   "name": "python",
   "nbconvert_exporter": "python",
   "pygments_lexer": "ipython3",
   "version": "3.8.10"
  }
 },
 "nbformat": 4,
 "nbformat_minor": 5
}
