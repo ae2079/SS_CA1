{
 "cells": [
  {
   "cell_type": "code",
   "execution_count": 1,
   "id": "7b98a156",
   "metadata": {},
   "outputs": [],
   "source": [
    "import numpy as np\n",
    "import matplotlib.pyplot as plt"
   ]
  },
  {
   "cell_type": "markdown",
   "id": "57e272d7",
   "metadata": {},
   "source": [
    "### برای به دست آوردن پاسخ سیستم نسبت به ورودی ایکس باید کانولوشن ایکس و اچ (پاسخ ضربه) را محاسبه کنیم"
   ]
  },
  {
   "cell_type": "code",
   "execution_count": 31,
   "id": "d82b4101",
   "metadata": {},
   "outputs": [],
   "source": [
    "n = np.arange(-5, 11, 1)"
   ]
  },
  {
   "cell_type": "markdown",
   "id": "2bfd0f77",
   "metadata": {},
   "source": [
    "### تابع ایکس"
   ]
  },
  {
   "cell_type": "code",
   "execution_count": 32,
   "id": "fe400efd",
   "metadata": {},
   "outputs": [],
   "source": [
    "def X(n):\n",
    "    return np.piecewise(n, [n<0, 0<=n], [0, 1]) - np.piecewise(n, [n<5, 5<=n], [0, 1])"
   ]
  },
  {
   "cell_type": "code",
   "execution_count": 33,
   "id": "633d628b",
   "metadata": {},
   "outputs": [
    {
     "data": {
      "image/png": "[encoded data removed]",
      "text/plain": [
       "<Figure size 432x288 with 1 Axes>"
      ]
     },
     "metadata": {
      "needs_background": "light"
     },
     "output_type": "display_data"
    }
   ],
   "source": [
    "plt.stem(n ,X(n) ,use_line_collection=True);"
   ]
  },
  {
   "cell_type": "markdown",
   "id": "5d1da2e1",
   "metadata": {},
   "source": [
    "### تابع اچ (پاسخ ضربه)"
   ]
  },
  {
   "cell_type": "code",
   "execution_count": 35,
   "id": "7fa5d670",
   "metadata": {},
   "outputs": [],
   "source": [
    "alfa = 0.5"
   ]
  },
  {
   "cell_type": "code",
   "execution_count": 68,
   "id": "e9269c5f",
   "metadata": {},
   "outputs": [],
   "source": [
    "def h(n):\n",
    "    exp = alfa**n\n",
    "    return np.piecewise(n, [n<0, 0<=n], [0, lambda n : exp[n]])"
   ]
  },
  {
   "cell_type": "code",
   "execution_count": 69,
   "id": "13bcd00f",
   "metadata": {},
   "outputs": [
    {
     "data": {
      "image/png": "[encoded data removed]",
      "text/plain": [
       "<Figure size 432x288 with 1 Axes>"
      ]
     },
     "metadata": {
      "needs_background": "light"
     },
     "output_type": "display_data"
    }
   ],
   "source": [
    "plt.stem(n ,h(n) ,use_line_collection=True);"
   ]
  },
  {
   "cell_type": "markdown",
   "id": "27701df4",
   "metadata": {},
   "source": [
    "### بازه اول به ازای إن های کوچکتر از ۰"
   ]
  },
  {
   "cell_type": "code",
   "execution_count": 70,
   "id": "4091a698",
   "metadata": {},
   "outputs": [],
   "source": [
    "n = np.arange(-10,0,1)"
   ]
  },
  {
   "cell_type": "code",
   "execution_count": 71,
   "id": "551e2357",
   "metadata": {},
   "outputs": [
    {
     "data": {
      "text/plain": [
       "array([-10,  -9,  -8,  -7,  -6,  -5,  -4,  -3,  -2,  -1])"
      ]
     },
     "execution_count": 71,
     "metadata": {},
     "output_type": "execute_result"
    }
   ],
   "source": [
    "y = "
   ]
  },
  {
   "cell_type": "code",
   "execution_count": null,
   "id": "1a28a4db",
   "metadata": {},
   "outputs": [],
   "source": [
    "def func(h, X, n):\n",
    "    m = np.arange(-10, 10, 1)\n",
    "    func = h(m) * X(n-m)\n",
    "    return func.sum()"
   ]
  },
  {
   "cell_type": "code",
   "execution_count": null,
   "id": "5a1d653d",
   "metadata": {},
   "outputs": [],
   "source": []
  },
  {
   "cell_type": "code",
   "execution_count": null,
   "id": "eb004583",
   "metadata": {},
   "outputs": [],
   "source": []
  },
  {
   "cell_type": "code",
   "execution_count": null,
   "id": "38cd6249",
   "metadata": {},
   "outputs": [],
   "source": []
  },
  {
   "cell_type": "markdown",
   "id": "3547508e",
   "metadata": {},
   "source": [
    "### بازه دوم به ازای إن های بین ۰ و ۴"
   ]
  },
  {
   "cell_type": "code",
   "execution_count": null,
   "id": "ce45a537",
   "metadata": {},
   "outputs": [],
   "source": []
  },
  {
   "cell_type": "markdown",
   "id": "25777297",
   "metadata": {},
   "source": [
    "### بازه ی سوم به ازی إن های بزرگتر از ۴"
   ]
  },
  {
   "cell_type": "code",
   "execution_count": null,
   "id": "02f0c7a9",
   "metadata": {},
   "outputs": [],
   "source": []
  }
 ],
 "metadata": {
  "kernelspec": {
   "display_name": "Python 3 (ipykernel)",
   "language": "python",
   "name": "python3"
  },
  "language_info": {
   "codemirror_mode": {
    "name": "ipython",
    "version": 3
   },
   "file_extension": ".py",
   "mimetype": "text/x-python",
   "name": "python",
   "nbconvert_exporter": "python",
   "pygments_lexer": "ipython3",
   "version": "3.8.10"
  }
 },
 "nbformat": 4,
 "nbformat_minor": 5
}
