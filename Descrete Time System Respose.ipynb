{
 "cells": [
  {
   "cell_type": "code",
   "execution_count": 1,
   "id": "15d9300e",
   "metadata": {},
   "outputs": [],
   "source": [
    "import numpy as np\n",
    "import matplotlib.pyplot as plt"
   ]
  },
  {
   "cell_type": "markdown",
   "id": "7d58cbe9",
   "metadata": {},
   "source": [
    "### برای به دست آوردن پاسخ سیستم نسبت به ورودی ایکس باید کانولوشن ایکس و اچ (پاسخ ضربه) را محاسبه کنیم"
   ]
  },
  {
   "cell_type": "code",
   "execution_count": 2,
   "id": "5840d2a6",
   "metadata": {},
   "outputs": [],
   "source": [
    "n = np.arange(-5, 10, 1)"
   ]
  },
  {
   "cell_type": "markdown",
   "id": "db8d6320",
   "metadata": {},
   "source": [
    "### تابع ایکس"
   ]
  },
  {
   "cell_type": "code",
   "execution_count": 3,
   "id": "34ddcc95",
   "metadata": {},
   "outputs": [],
   "source": [
    "def X(n):\n",
    "    return np.piecewise(n, [n<0, 0<=n], [0, 1]) - np.piecewise(n, [n<5, 5<=n], [0, 1])"
   ]
  },
  {
   "cell_type": "code",
   "execution_count": 4,
   "id": "99622c77",
   "metadata": {},
   "outputs": [
    {
     "data": {
      "image/png": "[encoded data removed]",
      "text/plain": [
       "<Figure size 432x288 with 1 Axes>"
      ]
     },
     "metadata": {
      "needs_background": "light"
     },
     "output_type": "display_data"
    }
   ],
   "source": [
    "plt.title(\"Input Signal\")\n",
    "plt.xlabel(\"n\")\n",
    "plt.ylabel(\"X[n]\")\n",
    "plt.stem(n ,X(n) ,use_line_collection=True);"
   ]
  },
  {
   "cell_type": "markdown",
   "id": "eabc15c0",
   "metadata": {},
   "source": [
    "### تابع اچ (پاسخ ضربه)"
   ]
  },
  {
   "cell_type": "code",
   "execution_count": 5,
   "id": "bb6c06bc",
   "metadata": {},
   "outputs": [],
   "source": [
    "alfa = 0.5"
   ]
  },
  {
   "cell_type": "code",
   "execution_count": 6,
   "id": "1a842eaf",
   "metadata": {},
   "outputs": [],
   "source": [
    "def h(n):\n",
    "    ls = []\n",
    "    for i in n:\n",
    "        if i < 0:\n",
    "            ls.append(0)\n",
    "        else:\n",
    "            ls.append(alfa**i)\n",
    "    return np.array(ls)"
   ]
  },
  {
   "cell_type": "code",
   "execution_count": 7,
   "id": "e4cc02df",
   "metadata": {
    "scrolled": true
   },
   "outputs": [
    {
     "data": {
      "image/png": "[encoded data removed]",
      "text/plain": [
       "<Figure size 432x288 with 1 Axes>"
      ]
     },
     "metadata": {
      "needs_background": "light"
     },
     "output_type": "display_data"
    }
   ],
   "source": [
    "plt.title(\"Impalse Response\")\n",
    "plt.xlabel(\"n\")\n",
    "plt.ylabel(\"h[n]\")\n",
    "plt.stem(n ,h(n) ,use_line_collection=True);"
   ]
  },
  {
   "cell_type": "markdown",
   "id": "c6ba2fb7",
   "metadata": {},
   "source": [
    "### Convolution function"
   ]
  },
  {
   "cell_type": "code",
   "execution_count": 8,
   "id": "4a8039f8",
   "metadata": {},
   "outputs": [],
   "source": [
    "def C_func(h, X, n):\n",
    "    m = np.arange(-1000, 1000, 1)\n",
    "    func = h(m) * X(n-m)\n",
    "    return func.sum()"
   ]
  },
  {
   "cell_type": "markdown",
   "id": "5c1d0308",
   "metadata": {},
   "source": [
    "### بازه اول به ازای إن های کوچکتر از ۰"
   ]
  },
  {
   "cell_type": "code",
   "execution_count": 9,
   "id": "f2237a51",
   "metadata": {},
   "outputs": [],
   "source": [
    "n = np.arange(-10,0,1)"
   ]
  },
  {
   "cell_type": "code",
   "execution_count": 10,
   "id": "2204d934",
   "metadata": {},
   "outputs": [],
   "source": [
    "y1 = [C_func(h, X, i) for i in n]"
   ]
  },
  {
   "cell_type": "code",
   "execution_count": 11,
   "id": "8143ee96",
   "metadata": {},
   "outputs": [
    {
     "data": {
      "image/png": "[encoded data removed]",
      "text/plain": [
       "<Figure size 432x288 with 1 Axes>"
      ]
     },
     "metadata": {
      "needs_background": "light"
     },
     "output_type": "display_data"
    }
   ],
   "source": [
    "plt.title(\"First Part\")\n",
    "plt.xlabel(\"n\")\n",
    "plt.ylabel(\"y[n]\")\n",
    "plt.stem(n ,y1 ,use_line_collection=True);"
   ]
  },
  {
   "cell_type": "markdown",
   "id": "fe025838",
   "metadata": {},
   "source": [
    "### بازه دوم به ازای إن های بین ۰ و ۴"
   ]
  },
  {
   "cell_type": "code",
   "execution_count": 12,
   "id": "26128851",
   "metadata": {},
   "outputs": [],
   "source": [
    "n = np.arange(0,5,1)"
   ]
  },
  {
   "cell_type": "code",
   "execution_count": 13,
   "id": "505df196",
   "metadata": {},
   "outputs": [],
   "source": [
    "y2 = [C_func(h, X, i) for i in n]"
   ]
  },
  {
   "cell_type": "code",
   "execution_count": 14,
   "id": "deb59de8",
   "metadata": {},
   "outputs": [
    {
     "data": {
      "image/png": "[encoded data removed]",
      "text/plain": [
       "<Figure size 432x288 with 1 Axes>"
      ]
     },
     "metadata": {
      "needs_background": "light"
     },
     "output_type": "display_data"
    }
   ],
   "source": [
    "plt.title(\"Second Part\")\n",
    "plt.xlabel(\"n\")\n",
    "plt.ylabel(\"y[n]\")\n",
    "plt.stem(n ,y2 ,use_line_collection=True);"
   ]
  },
  {
   "cell_type": "markdown",
   "id": "fea0d138",
   "metadata": {},
   "source": [
    "### بازه ی سوم به ازی إن های بزرگتر از ۴"
   ]
  },
  {
   "cell_type": "code",
   "execution_count": 15,
   "id": "7ded661c",
   "metadata": {},
   "outputs": [],
   "source": [
    "n = np.arange(5,15,1)"
   ]
  },
  {
   "cell_type": "code",
   "execution_count": 16,
   "id": "3575589e",
   "metadata": {},
   "outputs": [],
   "source": [
    "y3 = [C_func(h, X, i) for i in n]"
   ]
  },
  {
   "cell_type": "code",
   "execution_count": 17,
   "id": "209a4f18",
   "metadata": {},
   "outputs": [
    {
     "data": {
      "image/png": "[encoded data removed]",
      "text/plain": [
       "<Figure size 432x288 with 1 Axes>"
      ]
     },
     "metadata": {
      "needs_background": "light"
     },
     "output_type": "display_data"
    }
   ],
   "source": [
    "plt.title(\"Third Part\")\n",
    "plt.xlabel(\"n\")\n",
    "plt.ylabel(\"y[n]\")\n",
    "plt.stem(n ,y3 ,use_line_collection=True);"
   ]
  },
  {
   "cell_type": "markdown",
   "id": "27ab6eb1",
   "metadata": {},
   "source": [
    "### پاسخ کلی سیستم"
   ]
  },
  {
   "cell_type": "code",
   "execution_count": 18,
   "id": "43c302f5",
   "metadata": {},
   "outputs": [],
   "source": [
    "ans = np.concatenate((y1, y2, y3), axis=0)"
   ]
  },
  {
   "cell_type": "code",
   "execution_count": 19,
   "id": "30988ce0",
   "metadata": {},
   "outputs": [],
   "source": [
    "n = np.arange(-10,15,1)"
   ]
  },
  {
   "cell_type": "code",
   "execution_count": 20,
   "id": "e5540672",
   "metadata": {},
   "outputs": [
    {
     "data": {
      "image/png": "[encoded data removed]",
      "text/plain": [
       "<Figure size 432x288 with 1 Axes>"
      ]
     },
     "metadata": {
      "needs_background": "light"
     },
     "output_type": "display_data"
    }
   ],
   "source": [
    "plt.title(\"Concatenated\")\n",
    "plt.xlabel(\"n\")\n",
    "plt.ylabel(\"y[n]\")\n",
    "plt.stem(n ,ans ,use_line_collection=True);"
   ]
  }
 ],
 "metadata": {
  "kernelspec": {
   "display_name": "Python 3 (ipykernel)",
   "language": "python",
   "name": "python3"
  },
  "language_info": {
   "codemirror_mode": {
    "name": "ipython",
    "version": 3
   },
   "file_extension": ".py",
   "mimetype": "text/x-python",
   "name": "python",
   "nbconvert_exporter": "python",
   "pygments_lexer": "ipython3",
   "version": "3.8.10"
  }
 },
 "nbformat": 4,
 "nbformat_minor": 5
}
