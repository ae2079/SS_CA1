{
 "cells": [
  {
   "cell_type": "code",
   "execution_count": 1,
   "id": "0ff6e721",
   "metadata": {},
   "outputs": [],
   "source": [
    "import numpy as np\n",
    "import matplotlib.pyplot as plt"
   ]
  },
  {
   "cell_type": "markdown",
   "id": "ea725d51",
   "metadata": {},
   "source": [
    "### برای به دست آوردن پاسخ سیستم نسبت به ورودی ایکس باید کانولوشن ایکس و اچ (پاسخ ضربه) را محاسبه کنیم"
   ]
  },
  {
   "cell_type": "code",
   "execution_count": 239,
   "id": "ea6a63db",
   "metadata": {},
   "outputs": [],
   "source": [
    "n = np.arange(-5, 10, 1)"
   ]
  },
  {
   "cell_type": "code",
   "execution_count": 240,
   "id": "f6e4c16a",
   "metadata": {},
   "outputs": [
    {
     "data": {
      "text/plain": [
       "array([-5, -4, -3, -2, -1,  0,  1,  2,  3,  4,  5,  6,  7,  8,  9])"
      ]
     },
     "execution_count": 240,
     "metadata": {},
     "output_type": "execute_result"
    }
   ],
   "source": [
    "n"
   ]
  },
  {
   "cell_type": "markdown",
   "id": "40191269",
   "metadata": {},
   "source": [
    "### تابع ایکس"
   ]
  },
  {
   "cell_type": "code",
   "execution_count": 241,
   "id": "ec19f1b3",
   "metadata": {},
   "outputs": [],
   "source": [
    "def X(n):\n",
    "    return np.piecewise(n, [n<0, 0<=n], [0, 1]) - np.piecewise(n, [n<5, 5<=n], [0, 1])"
   ]
  },
  {
   "cell_type": "code",
   "execution_count": 242,
   "id": "0aa5d26b",
   "metadata": {},
   "outputs": [
    {
     "data": {
      "image/png": "[encoded data removed]",
      "text/plain": [
       "<Figure size 432x288 with 1 Axes>"
      ]
     },
     "metadata": {
      "needs_background": "light"
     },
     "output_type": "display_data"
    }
   ],
   "source": [
    "plt.stem(n ,X(n) ,use_line_collection=True);"
   ]
  },
  {
   "cell_type": "markdown",
   "id": "217d301a",
   "metadata": {},
   "source": [
    "### تابع اچ (پاسخ ضربه)"
   ]
  },
  {
   "cell_type": "code",
   "execution_count": 243,
   "id": "133982d6",
   "metadata": {},
   "outputs": [],
   "source": [
    "alfa = 0.5"
   ]
  },
  {
   "cell_type": "code",
   "execution_count": 244,
   "id": "67ebdd8a",
   "metadata": {},
   "outputs": [],
   "source": [
    "def h(n):\n",
    "    ls = []\n",
    "    for i in n:\n",
    "        if i < 0:\n",
    "            ls.append(0)\n",
    "        else:\n",
    "            ls.append(alfa**i)\n",
    "    return np.array(ls)"
   ]
  },
  {
   "cell_type": "code",
   "execution_count": 299,
   "id": "64a1900c",
   "metadata": {},
   "outputs": [
    {
     "data": {
      "image/png": "[encoded data removed]",
      "text/plain": [
       "<Figure size 432x288 with 1 Axes>"
      ]
     },
     "metadata": {
      "needs_background": "light"
     },
     "output_type": "display_data"
    }
   ],
   "source": [
    "plt.title(\"Impalse Response\")\n",
    "plt.xlabel(\"n\")\n",
    "plt.ylabel(\"h[n]\")\n",
    "plt.stem(n ,h(n) ,use_line_collection=True);"
   ]
  },
  {
   "cell_type": "markdown",
   "id": "35b2758f",
   "metadata": {},
   "source": [
    "### Convolution function"
   ]
  },
  {
   "cell_type": "code",
   "execution_count": 266,
   "id": "02c1f0c5",
   "metadata": {},
   "outputs": [],
   "source": [
    "def C_func(h, X, n):\n",
    "    m = np.arange(-1000, 1000, 1)\n",
    "    func = h(m) * X(n-m)\n",
    "    return func.sum()"
   ]
  },
  {
   "cell_type": "markdown",
   "id": "eeefd78e",
   "metadata": {},
   "source": [
    "### بازه اول به ازای إن های کوچکتر از ۰"
   ]
  },
  {
   "cell_type": "code",
   "execution_count": 296,
   "id": "60b18c53",
   "metadata": {},
   "outputs": [],
   "source": [
    "n = np.arange(-10,0,1)"
   ]
  },
  {
   "cell_type": "code",
   "execution_count": 297,
   "id": "97babdcf",
   "metadata": {},
   "outputs": [],
   "source": [
    "y1 = [C_func(h, X, i) for i in n]"
   ]
  },
  {
   "cell_type": "code",
   "execution_count": 298,
   "id": "b5fc4c1d",
   "metadata": {},
   "outputs": [
    {
     "data": {
      "image/png": "[encoded data removed]",
      "text/plain": [
       "<Figure size 432x288 with 1 Axes>"
      ]
     },
     "metadata": {
      "needs_background": "light"
     },
     "output_type": "display_data"
    }
   ],
   "source": [
    "plt.title(\"First Part\")\n",
    "plt.xlabel(\"n\")\n",
    "plt.ylabel(\"y[n]\")\n",
    "plt.stem(n ,y1 ,use_line_collection=True);"
   ]
  },
  {
   "cell_type": "markdown",
   "id": "ad0a6651",
   "metadata": {},
   "source": [
    "### بازه دوم به ازای إن های بین ۰ و ۴"
   ]
  },
  {
   "cell_type": "code",
   "execution_count": 292,
   "id": "a4d42c67",
   "metadata": {},
   "outputs": [],
   "source": [
    "n = np.arange(0,5,1)"
   ]
  },
  {
   "cell_type": "code",
   "execution_count": 293,
   "id": "7212312a",
   "metadata": {},
   "outputs": [],
   "source": [
    "y2 = [C_func(h, X, i) for i in n]"
   ]
  },
  {
   "cell_type": "code",
   "execution_count": 294,
   "id": "a52be37b",
   "metadata": {},
   "outputs": [
    {
     "data": {
      "image/png": "[encoded data removed]",
      "text/plain": [
       "<Figure size 432x288 with 1 Axes>"
      ]
     },
     "metadata": {
      "needs_background": "light"
     },
     "output_type": "display_data"
    }
   ],
   "source": [
    "plt.title(\"Second Part\")\n",
    "plt.xlabel(\"n\")\n",
    "plt.ylabel(\"y[n]\")\n",
    "plt.stem(n ,y2 ,use_line_collection=True);"
   ]
  },
  {
   "cell_type": "markdown",
   "id": "ed7dbe95",
   "metadata": {},
   "source": [
    "### بازه ی سوم به ازی إن های بزرگتر از ۴"
   ]
  },
  {
   "cell_type": "code",
   "execution_count": 289,
   "id": "788e1e42",
   "metadata": {},
   "outputs": [],
   "source": [
    "n = np.arange(5,15,1)"
   ]
  },
  {
   "cell_type": "code",
   "execution_count": 290,
   "id": "7ff7c047",
   "metadata": {},
   "outputs": [],
   "source": [
    "y3 = [C_func(h, X, i) for i in n]"
   ]
  },
  {
   "cell_type": "code",
   "execution_count": 291,
   "id": "e00c6f14",
   "metadata": {},
   "outputs": [
    {
     "data": {
      "image/png": "[encoded data removed]",
      "text/plain": [
       "<Figure size 432x288 with 1 Axes>"
      ]
     },
     "metadata": {
      "needs_background": "light"
     },
     "output_type": "display_data"
    }
   ],
   "source": [
    "plt.title(\"Third Part\")\n",
    "plt.xlabel(\"n\")\n",
    "plt.ylabel(\"y[n]\")\n",
    "plt.stem(n ,y3 ,use_line_collection=True);"
   ]
  },
  {
   "cell_type": "markdown",
   "id": "230044f1",
   "metadata": {},
   "source": [
    "### پاسخ کلی سیستم"
   ]
  },
  {
   "cell_type": "code",
   "execution_count": 277,
   "id": "8bebd3f0",
   "metadata": {},
   "outputs": [],
   "source": [
    "ans = np.concatenate((y1, y2, y3), axis=0)"
   ]
  },
  {
   "cell_type": "code",
   "execution_count": 280,
   "id": "a6889498",
   "metadata": {},
   "outputs": [],
   "source": [
    "n = np.arange(-10,15,1)"
   ]
  },
  {
   "cell_type": "code",
   "execution_count": 287,
   "id": "9129ac3a",
   "metadata": {},
   "outputs": [
    {
     "data": {
      "image/png": "[encoded data removed]",
      "text/plain": [
       "<Figure size 432x288 with 1 Axes>"
      ]
     },
     "metadata": {
      "needs_background": "light"
     },
     "output_type": "display_data"
    }
   ],
   "source": [
    "plt.title(\"Concatenated\")\n",
    "plt.xlabel(\"n\")\n",
    "plt.ylabel(\"y[n]\")\n",
    "plt.stem(n ,ans ,use_line_collection=True);"
   ]
  },
  {
   "cell_type": "code",
   "execution_count": null,
   "id": "2436ec25",
   "metadata": {},
   "outputs": [],
   "source": []
  }
 ],
 "metadata": {
  "kernelspec": {
   "display_name": "Python 3 (ipykernel)",
   "language": "python",
   "name": "python3"
  },
  "language_info": {
   "codemirror_mode": {
    "name": "ipython",
    "version": 3
   },
   "file_extension": ".py",
   "mimetype": "text/x-python",
   "name": "python",
   "nbconvert_exporter": "python",
   "pygments_lexer": "ipython3",
   "version": "3.8.10"
  }
 },
 "nbformat": 4,
 "nbformat_minor": 5
}
