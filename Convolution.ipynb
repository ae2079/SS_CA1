{
 "cells": [
  {
   "cell_type": "code",
   "execution_count": 1,
   "id": "a15cc7e4",
   "metadata": {},
   "outputs": [],
   "source": [
    "import numpy as np\n",
    "import matplotlib.pyplot as plt\n",
    "from scipy import signal"
   ]
  },
  {
   "cell_type": "markdown",
   "id": "368cbd61",
   "metadata": {},
   "source": [
    "### Convolution function"
   ]
  },
  {
   "cell_type": "code",
   "execution_count": 2,
   "id": "c68b4524",
   "metadata": {},
   "outputs": [],
   "source": [
    "def C_func(h, X, n):\n",
    "    m = np.arange(-1000, 1000, 1)\n",
    "    func = h[m] * X[n-m]\n",
    "    return func.sum()\n",
    "\n",
    "def Conv(h, X, n):\n",
    "    return np.array([C_func(h, X, i) for i in n])"
   ]
  },
  {
   "cell_type": "markdown",
   "id": "03022e9c",
   "metadata": {},
   "source": [
    "# Convolution"
   ]
  },
  {
   "cell_type": "markdown",
   "id": "64e8e36d",
   "metadata": {},
   "source": [
    "## الف)"
   ]
  },
  {
   "cell_type": "code",
   "execution_count": 3,
   "id": "ce311126",
   "metadata": {},
   "outputs": [],
   "source": [
    "h = np.array(0.5 ** np.linspace(0, 9999, 10000))"
   ]
  },
  {
   "cell_type": "code",
   "execution_count": 4,
   "id": "a3e5a491",
   "metadata": {},
   "outputs": [],
   "source": [
    "x = np.zeros(10000)\n",
    "x[0] = x[1] = x[2] = x[3] = x[4] = 1"
   ]
  },
  {
   "cell_type": "code",
   "execution_count": 5,
   "id": "7692dd48",
   "metadata": {},
   "outputs": [],
   "source": [
    "n = np.arange(-10, 15, 1)"
   ]
  },
  {
   "cell_type": "code",
   "execution_count": 6,
   "id": "ac6932d4",
   "metadata": {},
   "outputs": [],
   "source": [
    "y = Conv(h, x, n)"
   ]
  },
  {
   "cell_type": "code",
   "execution_count": 7,
   "id": "f88def3e",
   "metadata": {},
   "outputs": [
    {
     "data": {
      "image/png": "[encoded data removed]",
      "text/plain": [
       "<Figure size 432x288 with 1 Axes>"
      ]
     },
     "metadata": {
      "needs_background": "light"
     },
     "output_type": "display_data"
    }
   ],
   "source": [
    "plt.title(\"Aswer of Question #3\")\n",
    "plt.xlabel(\"n\")\n",
    "plt.ylabel(\"y[n]\")\n",
    "plt.stem(n,y,use_line_collection=True);"
   ]
  },
  {
   "cell_type": "code",
   "execution_count": 8,
   "id": "723b5a3b",
   "metadata": {},
   "outputs": [
    {
     "data": {
      "image/png": "[encoded data removed]",
      "text/plain": [
       "<Figure size 432x288 with 3 Axes>"
      ]
     },
     "metadata": {
      "needs_background": "light"
     },
     "output_type": "display_data"
    }
   ],
   "source": [
    "fig,axes = plt.subplots(nrows=3,ncols=1)\n",
    "axes[0].stem(n, x[n], use_line_collection=True)\n",
    "axes[1].stem(n, h[n], use_line_collection=True)\n",
    "axes[2].stem(n, y, use_line_collection=True)\n",
    "plt.tight_layout()"
   ]
  },
  {
   "cell_type": "markdown",
   "id": "ecaf85e6",
   "metadata": {},
   "source": [
    "## ب)"
   ]
  },
  {
   "cell_type": "code",
   "execution_count": 9,
   "id": "9026e66b",
   "metadata": {},
   "outputs": [],
   "source": [
    "y2 = signal.convolve(x, h)"
   ]
  },
  {
   "cell_type": "code",
   "execution_count": 10,
   "id": "6fc8d621",
   "metadata": {},
   "outputs": [
    {
     "data": {
      "image/png": "[encoded data removed]",
      "text/plain": [
       "<Figure size 432x288 with 1 Axes>"
      ]
     },
     "metadata": {
      "needs_background": "light"
     },
     "output_type": "display_data"
    }
   ],
   "source": [
    "plt.title(\"Aswer of Question #3 with signal.convolve\")\n",
    "plt.xlabel(\"n\")\n",
    "plt.ylabel(\"y[n]\")\n",
    "plt.stem(n,y2[n],use_line_collection=True);"
   ]
  },
  {
   "cell_type": "markdown",
   "id": "b0d8c2fa",
   "metadata": {},
   "source": [
    "### جواب به دست آمده از این بخش مانند قسمت قبل است"
   ]
  },
  {
   "cell_type": "markdown",
   "id": "ae3d7e89",
   "metadata": {},
   "source": [
    "## ج)"
   ]
  },
  {
   "cell_type": "markdown",
   "id": "be6456b8",
   "metadata": {},
   "source": [
    "###    Mode is a string indicating the size of the output:\n",
    "\n",
    "    full\n",
    "        The output is the full discrete linear convolution of the inputs. (Default)\n",
    "        \n",
    "    valid\n",
    "        The output consists only of those elements that do not rely on the zero-padding. In ‘valid’ mode, either in1 or in2 must be at least as large as the other in every dimension.\n",
    "        \n",
    "    same\n",
    "        The output is the same size as in1, centered with respect to the ‘full’ output."
   ]
  },
  {
   "cell_type": "markdown",
   "id": "ae1a099b",
   "metadata": {},
   "source": [
    "#### Resorce : https://docs.scipy.org/doc/scipy/reference/generated/scipy.signal.convolve.html"
   ]
  },
  {
   "cell_type": "markdown",
   "id": "e036cf60",
   "metadata": {},
   "source": [
    "### mode = valid"
   ]
  },
  {
   "cell_type": "code",
   "execution_count": 11,
   "id": "7706b57f",
   "metadata": {},
   "outputs": [],
   "source": [
    "y3 = signal.convolve(x, h, mode = \"valid\")"
   ]
  },
  {
   "cell_type": "code",
   "execution_count": 12,
   "id": "1bd3b1bd",
   "metadata": {},
   "outputs": [
    {
     "ename": "ValueError",
     "evalue": "x and y must have same first dimension, but have shapes (25,) and (1,)",
     "output_type": "error",
     "traceback": [
      "\u001b[0;31m---------------------------------------------------------------------------\u001b[0m",
      "\u001b[0;31mValueError\u001b[0m                                Traceback (most recent call last)",
      "\u001b[0;32m/tmp/ipykernel_24256/269861828.py\u001b[0m in \u001b[0;36m<module>\u001b[0;34m\u001b[0m\n\u001b[1;32m      2\u001b[0m \u001b[0mplt\u001b[0m\u001b[0;34m.\u001b[0m\u001b[0mxlabel\u001b[0m\u001b[0;34m(\u001b[0m\u001b[0;34m\"n\"\u001b[0m\u001b[0;34m)\u001b[0m\u001b[0;34m\u001b[0m\u001b[0;34m\u001b[0m\u001b[0m\n\u001b[1;32m      3\u001b[0m \u001b[0mplt\u001b[0m\u001b[0;34m.\u001b[0m\u001b[0mylabel\u001b[0m\u001b[0;34m(\u001b[0m\u001b[0;34m\"y[n]\"\u001b[0m\u001b[0;34m)\u001b[0m\u001b[0;34m\u001b[0m\u001b[0;34m\u001b[0m\u001b[0m\n\u001b[0;32m----> 4\u001b[0;31m \u001b[0mplt\u001b[0m\u001b[0;34m.\u001b[0m\u001b[0mstem\u001b[0m\u001b[0;34m(\u001b[0m\u001b[0mn\u001b[0m\u001b[0;34m,\u001b[0m\u001b[0my3\u001b[0m\u001b[0;34m[\u001b[0m\u001b[0;36m0\u001b[0m\u001b[0;34m:\u001b[0m\u001b[0;36m25\u001b[0m\u001b[0;34m]\u001b[0m\u001b[0;34m,\u001b[0m\u001b[0muse_line_collection\u001b[0m\u001b[0;34m=\u001b[0m\u001b[0;32mTrue\u001b[0m\u001b[0;34m)\u001b[0m\u001b[0;34m;\u001b[0m\u001b[0;34m\u001b[0m\u001b[0;34m\u001b[0m\u001b[0m\n\u001b[0m",
      "\u001b[0;32m~/.local/lib/python3.8/site-packages/matplotlib/pyplot.py\u001b[0m in \u001b[0;36mstem\u001b[0;34m(linefmt, markerfmt, basefmt, bottom, label, use_line_collection, orientation, data, *args)\u001b[0m\n\u001b[1;32m   2871\u001b[0m         \u001b[0mlabel\u001b[0m\u001b[0;34m=\u001b[0m\u001b[0;32mNone\u001b[0m\u001b[0;34m,\u001b[0m \u001b[0muse_line_collection\u001b[0m\u001b[0;34m=\u001b[0m\u001b[0;32mTrue\u001b[0m\u001b[0;34m,\u001b[0m \u001b[0morientation\u001b[0m\u001b[0;34m=\u001b[0m\u001b[0;34m'vertical'\u001b[0m\u001b[0;34m,\u001b[0m\u001b[0;34m\u001b[0m\u001b[0;34m\u001b[0m\u001b[0m\n\u001b[1;32m   2872\u001b[0m         data=None):\n\u001b[0;32m-> 2873\u001b[0;31m     return gca().stem(\n\u001b[0m\u001b[1;32m   2874\u001b[0m         \u001b[0;34m*\u001b[0m\u001b[0margs\u001b[0m\u001b[0;34m,\u001b[0m \u001b[0mlinefmt\u001b[0m\u001b[0;34m=\u001b[0m\u001b[0mlinefmt\u001b[0m\u001b[0;34m,\u001b[0m \u001b[0mmarkerfmt\u001b[0m\u001b[0;34m=\u001b[0m\u001b[0mmarkerfmt\u001b[0m\u001b[0;34m,\u001b[0m \u001b[0mbasefmt\u001b[0m\u001b[0;34m=\u001b[0m\u001b[0mbasefmt\u001b[0m\u001b[0;34m,\u001b[0m\u001b[0;34m\u001b[0m\u001b[0;34m\u001b[0m\u001b[0m\n\u001b[1;32m   2875\u001b[0m         \u001b[0mbottom\u001b[0m\u001b[0;34m=\u001b[0m\u001b[0mbottom\u001b[0m\u001b[0;34m,\u001b[0m \u001b[0mlabel\u001b[0m\u001b[0;34m=\u001b[0m\u001b[0mlabel\u001b[0m\u001b[0;34m,\u001b[0m\u001b[0;34m\u001b[0m\u001b[0;34m\u001b[0m\u001b[0m\n",
      "\u001b[0;32m~/.local/lib/python3.8/site-packages/matplotlib/__init__.py\u001b[0m in \u001b[0;36minner\u001b[0;34m(ax, data, *args, **kwargs)\u001b[0m\n\u001b[1;32m   1410\u001b[0m     \u001b[0;32mdef\u001b[0m \u001b[0minner\u001b[0m\u001b[0;34m(\u001b[0m\u001b[0max\u001b[0m\u001b[0;34m,\u001b[0m \u001b[0;34m*\u001b[0m\u001b[0margs\u001b[0m\u001b[0;34m,\u001b[0m \u001b[0mdata\u001b[0m\u001b[0;34m=\u001b[0m\u001b[0;32mNone\u001b[0m\u001b[0;34m,\u001b[0m \u001b[0;34m**\u001b[0m\u001b[0mkwargs\u001b[0m\u001b[0;34m)\u001b[0m\u001b[0;34m:\u001b[0m\u001b[0;34m\u001b[0m\u001b[0;34m\u001b[0m\u001b[0m\n\u001b[1;32m   1411\u001b[0m         \u001b[0;32mif\u001b[0m \u001b[0mdata\u001b[0m \u001b[0;32mis\u001b[0m \u001b[0;32mNone\u001b[0m\u001b[0;34m:\u001b[0m\u001b[0;34m\u001b[0m\u001b[0;34m\u001b[0m\u001b[0m\n\u001b[0;32m-> 1412\u001b[0;31m             \u001b[0;32mreturn\u001b[0m \u001b[0mfunc\u001b[0m\u001b[0;34m(\u001b[0m\u001b[0max\u001b[0m\u001b[0;34m,\u001b[0m \u001b[0;34m*\u001b[0m\u001b[0mmap\u001b[0m\u001b[0;34m(\u001b[0m\u001b[0msanitize_sequence\u001b[0m\u001b[0;34m,\u001b[0m \u001b[0margs\u001b[0m\u001b[0;34m)\u001b[0m\u001b[0;34m,\u001b[0m \u001b[0;34m**\u001b[0m\u001b[0mkwargs\u001b[0m\u001b[0;34m)\u001b[0m\u001b[0;34m\u001b[0m\u001b[0;34m\u001b[0m\u001b[0m\n\u001b[0m\u001b[1;32m   1413\u001b[0m \u001b[0;34m\u001b[0m\u001b[0m\n\u001b[1;32m   1414\u001b[0m         \u001b[0mbound\u001b[0m \u001b[0;34m=\u001b[0m \u001b[0mnew_sig\u001b[0m\u001b[0;34m.\u001b[0m\u001b[0mbind\u001b[0m\u001b[0;34m(\u001b[0m\u001b[0max\u001b[0m\u001b[0;34m,\u001b[0m \u001b[0;34m*\u001b[0m\u001b[0margs\u001b[0m\u001b[0;34m,\u001b[0m \u001b[0;34m**\u001b[0m\u001b[0mkwargs\u001b[0m\u001b[0;34m)\u001b[0m\u001b[0;34m\u001b[0m\u001b[0;34m\u001b[0m\u001b[0m\n",
      "\u001b[0;32m~/.local/lib/python3.8/site-packages/matplotlib/axes/_axes.py\u001b[0m in \u001b[0;36mstem\u001b[0;34m(self, linefmt, markerfmt, basefmt, bottom, label, use_line_collection, orientation, *args)\u001b[0m\n\u001b[1;32m   2917\u001b[0m             \u001b[0mbaseline_y\u001b[0m \u001b[0;34m=\u001b[0m \u001b[0;34m[\u001b[0m\u001b[0mbottom\u001b[0m\u001b[0;34m,\u001b[0m \u001b[0mbottom\u001b[0m\u001b[0;34m]\u001b[0m\u001b[0;34m\u001b[0m\u001b[0;34m\u001b[0m\u001b[0m\n\u001b[1;32m   2918\u001b[0m \u001b[0;34m\u001b[0m\u001b[0m\n\u001b[0;32m-> 2919\u001b[0;31m         markerline, = self.plot(marker_x, marker_y,\n\u001b[0m\u001b[1;32m   2920\u001b[0m                                 \u001b[0mcolor\u001b[0m\u001b[0;34m=\u001b[0m\u001b[0mmarkercolor\u001b[0m\u001b[0;34m,\u001b[0m \u001b[0mlinestyle\u001b[0m\u001b[0;34m=\u001b[0m\u001b[0mmarkerstyle\u001b[0m\u001b[0;34m,\u001b[0m\u001b[0;34m\u001b[0m\u001b[0;34m\u001b[0m\u001b[0m\n\u001b[1;32m   2921\u001b[0m                                 marker=markermarker, label=\"_nolegend_\")\n",
      "\u001b[0;32m~/.local/lib/python3.8/site-packages/matplotlib/axes/_axes.py\u001b[0m in \u001b[0;36mplot\u001b[0;34m(self, scalex, scaley, data, *args, **kwargs)\u001b[0m\n\u001b[1;32m   1630\u001b[0m         \"\"\"\n\u001b[1;32m   1631\u001b[0m         \u001b[0mkwargs\u001b[0m \u001b[0;34m=\u001b[0m \u001b[0mcbook\u001b[0m\u001b[0;34m.\u001b[0m\u001b[0mnormalize_kwargs\u001b[0m\u001b[0;34m(\u001b[0m\u001b[0mkwargs\u001b[0m\u001b[0;34m,\u001b[0m \u001b[0mmlines\u001b[0m\u001b[0;34m.\u001b[0m\u001b[0mLine2D\u001b[0m\u001b[0;34m)\u001b[0m\u001b[0;34m\u001b[0m\u001b[0;34m\u001b[0m\u001b[0m\n\u001b[0;32m-> 1632\u001b[0;31m         \u001b[0mlines\u001b[0m \u001b[0;34m=\u001b[0m \u001b[0;34m[\u001b[0m\u001b[0;34m*\u001b[0m\u001b[0mself\u001b[0m\u001b[0;34m.\u001b[0m\u001b[0m_get_lines\u001b[0m\u001b[0;34m(\u001b[0m\u001b[0;34m*\u001b[0m\u001b[0margs\u001b[0m\u001b[0;34m,\u001b[0m \u001b[0mdata\u001b[0m\u001b[0;34m=\u001b[0m\u001b[0mdata\u001b[0m\u001b[0;34m,\u001b[0m \u001b[0;34m**\u001b[0m\u001b[0mkwargs\u001b[0m\u001b[0;34m)\u001b[0m\u001b[0;34m]\u001b[0m\u001b[0;34m\u001b[0m\u001b[0;34m\u001b[0m\u001b[0m\n\u001b[0m\u001b[1;32m   1633\u001b[0m         \u001b[0;32mfor\u001b[0m \u001b[0mline\u001b[0m \u001b[0;32min\u001b[0m \u001b[0mlines\u001b[0m\u001b[0;34m:\u001b[0m\u001b[0;34m\u001b[0m\u001b[0;34m\u001b[0m\u001b[0m\n\u001b[1;32m   1634\u001b[0m             \u001b[0mself\u001b[0m\u001b[0;34m.\u001b[0m\u001b[0madd_line\u001b[0m\u001b[0;34m(\u001b[0m\u001b[0mline\u001b[0m\u001b[0;34m)\u001b[0m\u001b[0;34m\u001b[0m\u001b[0;34m\u001b[0m\u001b[0m\n",
      "\u001b[0;32m~/.local/lib/python3.8/site-packages/matplotlib/axes/_base.py\u001b[0m in \u001b[0;36m__call__\u001b[0;34m(self, data, *args, **kwargs)\u001b[0m\n\u001b[1;32m    310\u001b[0m                 \u001b[0mthis\u001b[0m \u001b[0;34m+=\u001b[0m \u001b[0margs\u001b[0m\u001b[0;34m[\u001b[0m\u001b[0;36m0\u001b[0m\u001b[0;34m]\u001b[0m\u001b[0;34m,\u001b[0m\u001b[0;34m\u001b[0m\u001b[0;34m\u001b[0m\u001b[0m\n\u001b[1;32m    311\u001b[0m                 \u001b[0margs\u001b[0m \u001b[0;34m=\u001b[0m \u001b[0margs\u001b[0m\u001b[0;34m[\u001b[0m\u001b[0;36m1\u001b[0m\u001b[0;34m:\u001b[0m\u001b[0;34m]\u001b[0m\u001b[0;34m\u001b[0m\u001b[0;34m\u001b[0m\u001b[0m\n\u001b[0;32m--> 312\u001b[0;31m             \u001b[0;32myield\u001b[0m \u001b[0;32mfrom\u001b[0m \u001b[0mself\u001b[0m\u001b[0;34m.\u001b[0m\u001b[0m_plot_args\u001b[0m\u001b[0;34m(\u001b[0m\u001b[0mthis\u001b[0m\u001b[0;34m,\u001b[0m \u001b[0mkwargs\u001b[0m\u001b[0;34m)\u001b[0m\u001b[0;34m\u001b[0m\u001b[0;34m\u001b[0m\u001b[0m\n\u001b[0m\u001b[1;32m    313\u001b[0m \u001b[0;34m\u001b[0m\u001b[0m\n\u001b[1;32m    314\u001b[0m     \u001b[0;32mdef\u001b[0m \u001b[0mget_next_color\u001b[0m\u001b[0;34m(\u001b[0m\u001b[0mself\u001b[0m\u001b[0;34m)\u001b[0m\u001b[0;34m:\u001b[0m\u001b[0;34m\u001b[0m\u001b[0;34m\u001b[0m\u001b[0m\n",
      "\u001b[0;32m~/.local/lib/python3.8/site-packages/matplotlib/axes/_base.py\u001b[0m in \u001b[0;36m_plot_args\u001b[0;34m(self, tup, kwargs, return_kwargs)\u001b[0m\n\u001b[1;32m    496\u001b[0m \u001b[0;34m\u001b[0m\u001b[0m\n\u001b[1;32m    497\u001b[0m         \u001b[0;32mif\u001b[0m \u001b[0mx\u001b[0m\u001b[0;34m.\u001b[0m\u001b[0mshape\u001b[0m\u001b[0;34m[\u001b[0m\u001b[0;36m0\u001b[0m\u001b[0;34m]\u001b[0m \u001b[0;34m!=\u001b[0m \u001b[0my\u001b[0m\u001b[0;34m.\u001b[0m\u001b[0mshape\u001b[0m\u001b[0;34m[\u001b[0m\u001b[0;36m0\u001b[0m\u001b[0;34m]\u001b[0m\u001b[0;34m:\u001b[0m\u001b[0;34m\u001b[0m\u001b[0;34m\u001b[0m\u001b[0m\n\u001b[0;32m--> 498\u001b[0;31m             raise ValueError(f\"x and y must have same first dimension, but \"\n\u001b[0m\u001b[1;32m    499\u001b[0m                              f\"have shapes {x.shape} and {y.shape}\")\n\u001b[1;32m    500\u001b[0m         \u001b[0;32mif\u001b[0m \u001b[0mx\u001b[0m\u001b[0;34m.\u001b[0m\u001b[0mndim\u001b[0m \u001b[0;34m>\u001b[0m \u001b[0;36m2\u001b[0m \u001b[0;32mor\u001b[0m \u001b[0my\u001b[0m\u001b[0;34m.\u001b[0m\u001b[0mndim\u001b[0m \u001b[0;34m>\u001b[0m \u001b[0;36m2\u001b[0m\u001b[0;34m:\u001b[0m\u001b[0;34m\u001b[0m\u001b[0;34m\u001b[0m\u001b[0m\n",
      "\u001b[0;31mValueError\u001b[0m: x and y must have same first dimension, but have shapes (25,) and (1,)"
     ]
    },
    {
     "data": {
      "image/png": "[encoded data removed]",
      "text/plain": [
       "<Figure size 432x288 with 1 Axes>"
      ]
     },
     "metadata": {
      "needs_background": "light"
     },
     "output_type": "display_data"
    }
   ],
   "source": [
    "plt.title(\"Aswer of Question #3 with signal.convolve and mode valid\")\n",
    "plt.xlabel(\"n\")\n",
    "plt.ylabel(\"y[n]\")\n",
    "plt.stem(n,y3[0:25],use_line_collection=True);"
   ]
  },
  {
   "cell_type": "markdown",
   "id": "8f26a4b5",
   "metadata": {},
   "source": [
    "### mode = same"
   ]
  },
  {
   "cell_type": "code",
   "execution_count": 13,
   "id": "a102cb8a",
   "metadata": {},
   "outputs": [],
   "source": [
    "y4 = signal.convolve(x, h, mode = \"same\")"
   ]
  },
  {
   "cell_type": "code",
   "execution_count": 14,
   "id": "6c473476",
   "metadata": {},
   "outputs": [
    {
     "data": {
      "image/png": "[encoded data removed]",
      "text/plain": [
       "<Figure size 432x288 with 1 Axes>"
      ]
     },
     "metadata": {
      "needs_background": "light"
     },
     "output_type": "display_data"
    }
   ],
   "source": [
    "plt.title(\"Aswer of Question #3 with signal.convolve and mode same\")\n",
    "plt.xlabel(\"n\")\n",
    "plt.ylabel(\"y[n]\")\n",
    "plt.stem(n,y4[n],use_line_collection=True);"
   ]
  },
  {
   "cell_type": "markdown",
   "id": "a85039d2",
   "metadata": {},
   "source": [
    "# Deconvolution"
   ]
  },
  {
   "cell_type": "code",
   "execution_count": null,
   "id": "f21131ae",
   "metadata": {},
   "outputs": [],
   "source": []
  },
  {
   "cell_type": "markdown",
   "id": "a2b04bc9",
   "metadata": {},
   "source": [
    "## الف)"
   ]
  },
  {
   "cell_type": "code",
   "execution_count": null,
   "id": "4c72423a",
   "metadata": {},
   "outputs": [],
   "source": []
  },
  {
   "cell_type": "markdown",
   "id": "0960bc4c",
   "metadata": {},
   "source": [
    "## ب)"
   ]
  },
  {
   "cell_type": "markdown",
   "id": "9cd078cc",
   "metadata": {},
   "source": [
    "### یکتا بودن جواب وابسته به معکوس پذیری سیستم است و مانند قسمت قبل جواب همواره یکتا نیست و ممکن است چندین جواب وجود داشته باشد"
   ]
  },
  {
   "cell_type": "markdown",
   "id": "ae7b69d1",
   "metadata": {},
   "source": [
    "## ج)"
   ]
  },
  {
   "cell_type": "code",
   "execution_count": 15,
   "id": "9c4d5b7f",
   "metadata": {},
   "outputs": [],
   "source": [
    "h2 = signal.deconvolve(y2, x)"
   ]
  },
  {
   "cell_type": "code",
   "execution_count": null,
   "id": "6577f6f0",
   "metadata": {},
   "outputs": [],
   "source": []
  },
  {
   "cell_type": "code",
   "execution_count": 16,
   "id": "d3ff92ec",
   "metadata": {},
   "outputs": [
    {
     "data": {
      "image/png": "[encoded data removed]",
      "text/plain": [
       "<Figure size 432x288 with 1 Axes>"
      ]
     },
     "metadata": {
      "needs_background": "light"
     },
     "output_type": "display_data"
    }
   ],
   "source": [
    "plt.title(\"deconvolve answer of Q#3 with signal.deconvolve\")\n",
    "plt.xlabel(\"n\")\n",
    "plt.ylabel(\"y[n]\")\n",
    "plt.stem(n,h2[1][0:25],use_line_collection=True);"
   ]
  },
  {
   "cell_type": "code",
   "execution_count": null,
   "id": "ddf92f0a",
   "metadata": {},
   "outputs": [],
   "source": []
  },
  {
   "cell_type": "code",
   "execution_count": null,
   "id": "c457b270",
   "metadata": {},
   "outputs": [],
   "source": []
  },
  {
   "cell_type": "code",
   "execution_count": null,
   "id": "36db3336",
   "metadata": {},
   "outputs": [],
   "source": []
  }
 ],
 "metadata": {
  "kernelspec": {
   "display_name": "Python 3 (ipykernel)",
   "language": "python",
   "name": "python3"
  },
  "language_info": {
   "codemirror_mode": {
    "name": "ipython",
    "version": 3
   },
   "file_extension": ".py",
   "mimetype": "text/x-python",
   "name": "python",
   "nbconvert_exporter": "python",
   "pygments_lexer": "ipython3",
   "version": "3.8.10"
  }
 },
 "nbformat": 4,
 "nbformat_minor": 5
}
